{
 "cells": [
  {
   "cell_type": "markdown",
   "metadata": {},
   "source": [
    "# Dataset tokenization\n",
    "\n",
    "Some code from https://github.com/huggingface/olm-training"
   ]
  },
  {
   "cell_type": "code",
   "execution_count": 1,
   "metadata": {},
   "outputs": [],
   "source": [
    "from transformers import (\n",
    "    AutoTokenizer,\n",
    ")\n",
    "from datasets import load_dataset"
   ]
  },
  {
   "cell_type": "code",
   "execution_count": 3,
   "metadata": {},
   "outputs": [],
   "source": [
    "dataset = load_dataset(\"text\", \n",
    "                       data_files={\"train\": \"data/train.txt\", \n",
    "                                   \"dev\": \"data/dev.txt\"},\n",
    "                      cache_dir=\"data/cache\")"
   ]
  },
  {
   "cell_type": "code",
   "execution_count": 5,
   "metadata": {},
   "outputs": [],
   "source": [
    "tokenizer = AutoTokenizer.from_pretrained(\"g5_tokenizer\")"
   ]
  },
  {
   "cell_type": "code",
   "execution_count": 6,
   "metadata": {},
   "outputs": [],
   "source": [
    "def tokenize(example):\n",
    "    tokenized_example = tokenizer(\n",
    "       example[\"text\"], return_special_tokens_mask=True\n",
    "    )\n",
    "    return tokenized_example"
   ]
  },
  {
   "cell_type": "code",
   "execution_count": null,
   "metadata": {},
   "outputs": [],
   "source": [
    "tokenized_ds = dataset.map(tokenize, remove_columns=[\"text\"], batched=True)"
   ]
  },
  {
   "cell_type": "code",
   "execution_count": null,
   "metadata": {},
   "outputs": [],
   "source": [
    "max_len = 1110 # This number is to have an actual input size of 1000 for the model\n",
    "\n",
    "# Main data processing function that will concatenate all texts from our dataset and generate chunks of\n",
    "# max_seq_length.\n",
    "def group_texts(examples):\n",
    "    # Concatenate all texts.\n",
    "    concatenated_examples = {k: list(chain(*examples[k])) for k in examples.keys()}\n",
    "    total_length = len(concatenated_examples[list(examples.keys())[0]])\n",
    "    # We add a little padding so these tokens can be evenly split into examples with max_len # of tokens.\n",
    "    if total_length >= args.max_len:\n",
    "        remainder  = total_length - (total_length // max_len) * max_len\n",
    "        if remainder > 0:\n",
    "            concatenated_examples[\"input_ids\"] += [tokenizer.pad_token_id]*(max_len - remainder)\n",
    "            concatenated_examples[\"special_tokens_mask\"] += [1]*(max_len - remainder)\n",
    "            concatenated_examples[\"attention_mask\"] += [0]*(max_len - remainder)\n",
    "            if \"token_type_ids\" in concatenated_examples:\n",
    "                # token_type_ids is 0 - we don't support next-sentence-prediction.\n",
    "                concatenated_examples[\"token_type_ids\"] += [0]*(max_len - remainder)\n",
    "            total_length = len(concatenated_examples[list(examples.keys())[0]])\n",
    "    # Split by chunks of max_len.\n",
    "    result = {\n",
    "        k: [t[i : i + max_len] for i in range(0, total_length, max_len)]\n",
    "        for k, t in concatenated_examples.items()\n",
    "    }\n",
    "    return result"
   ]
  },
  {
   "cell_type": "code",
   "execution_count": null,
   "metadata": {},
   "outputs": [],
   "source": [
    "# Note that because the batch size is 1000, the fraction of examples with pad tokens will only be <= 1/1000.\n",
    "# The rest of the examples will have a full max_len tokens without padding.\n",
    "tokenized_ds = tokenized_ds.map(group_texts, batched=True, batch_size=1000, num_proc=4)"
   ]
  },
  {
   "cell_type": "code",
   "execution_count": null,
   "metadata": {},
   "outputs": [],
   "source": [
    "print(f\"the dataset contains in total {len(tokenized_ds)*max_len} tokens\")\n",
    "\n",
    "tokenized_ds.save_to_disk(\"g5_dataset\")"
   ]
  },
  {
   "cell_type": "markdown",
   "metadata": {},
   "source": [
    "## ensembl ping for translation task"
   ]
  },
  {
   "cell_type": "code",
   "execution_count": 32,
   "metadata": {},
   "outputs": [
    {
     "name": "stderr",
     "output_type": "stream",
     "text": [
      "100%|██████████| 718/718 [2:29:04<00:00, 12.46s/it]  \n"
     ]
    }
   ],
   "source": [
    "from biomart import BiomartServer\n",
    "import time\n",
    "from tqdm import tqdm\n",
    "\n",
    "import pandas as pd\n",
    "mart_df = pd.read_csv(\"data/mart_export.csv\")\n",
    "df = mart_df[[\"Gene stable ID\", \"Mouse gene stable ID\"]].copy()\n",
    "\n",
    "# connect\n",
    "server = BiomartServer(\"http://www.ensembl.org/biomart\")\n",
    "mart = server.datasets['hsapiens_gene_ensembl']\n",
    "\n",
    "def fetch_sequences_in_batches(gene_ids, batch_size):\n",
    "    sequences = {}\n",
    "    for i in tqdm(range(0, len(gene_ids), batch_size)):\n",
    "        batch_ids = gene_ids[i:i + batch_size]\n",
    "        response = mart.search({\n",
    "            'filters': {\n",
    "                'ensembl_gene_id': batch_ids\n",
    "            },\n",
    "            'attributes': [\n",
    "                'ensembl_gene_id', 'coding'\n",
    "            ]\n",
    "        })\n",
    "        for line in response.iter_lines():\n",
    "            parts = line.decode('utf-8').split(\"\\t\")\n",
    "            gene_id, sequence = parts[0], parts[1]\n",
    "            sequences[gene_id] = sequence\n",
    "        time.sleep(0.5)\n",
    "    return sequences\n",
    "\n",
    "# Fetch sequences in batches\n",
    "gene_ids = df['Gene stable ID'].tolist()\n",
    "sequences = fetch_sequences_in_batches(gene_ids, batch_size=250)\n",
    "\n",
    "# Add the sequences to the DataFrame\n",
    "df['gene_sequence'] = df['Gene stable ID'].map(sequences)\n",
    "flipped = dict((v,k) for k,v in sequences.items())"
   ]
  },
  {
   "cell_type": "markdown",
   "metadata": {},
   "source": [
    "## preprocess translation data"
   ]
  },
  {
   "cell_type": "code",
   "execution_count": 72,
   "metadata": {},
   "outputs": [],
   "source": [
    "import pandas as pd\n",
    "\n",
    "seq_df = pd.read_csv(\"../data/prot_sequences_dedup.csv\").dropna()"
   ]
  },
  {
   "cell_type": "code",
   "execution_count": 74,
   "metadata": {},
   "outputs": [
    {
     "data": {
      "application/vnd.jupyter.widget-view+json": {
       "model_id": "78dd868042b54a0791647640e53af9da",
       "version_major": 2,
       "version_minor": 0
      },
      "text/plain": [
       "Map:   0%|          | 0/116025 [00:00<?, ? examples/s]"
      ]
     },
     "metadata": {},
     "output_type": "display_data"
    }
   ],
   "source": [
    "from datasets import Dataset\n",
    "import re\n",
    "\n",
    "dataset = Dataset.from_pandas(seq_df)\n",
    "dataset = dataset.remove_columns([\"Gene stable ID\", \"Protein stable ID\", \"Mouse protein or transcript stable ID\", \"Mouse gene stable ID\"])\n",
    "\n",
    "def preprocess_seqs(seq):\n",
    "    return {\"hum_seq\":   \" \".join(list(re.sub(r\"[UZOB]\", \"X\", seq[\"hum_seq\"]))),\n",
    "            \"mouse_seq\": \" \".join(list(re.sub(r\"[UZOB]\", \"X\", seq[\"mouse_seq\"])))}\n",
    "\n",
    "dataset = dataset.map(preprocess_seqs)"
   ]
  },
  {
   "cell_type": "code",
   "execution_count": 77,
   "metadata": {},
   "outputs": [
    {
     "data": {
      "application/vnd.jupyter.widget-view+json": {
       "model_id": "bb9ed541164a4bf9a09dba42dd739f0f",
       "version_major": 2,
       "version_minor": 0
      },
      "text/plain": [
       "Map:   0%|          | 0/116025 [00:00<?, ? examples/s]"
      ]
     },
     "metadata": {},
     "output_type": "display_data"
    }
   ],
   "source": [
    "from transformers import T5Tokenizer\n",
    "\n",
    "tokenizer = T5Tokenizer.from_pretrained(\"Rostlab/prot_t5_xl_uniref50\")\n",
    "\n",
    "def preprocess_function(examples):\n",
    "    model_inputs = tokenizer(examples[\"hum_seq\"], text_target=examples[\"mouse_seq\"], max_length=512, padding='max_length', truncation=True)\n",
    "    return model_inputs\n",
    "\n",
    "tokenized_dataset = dataset.map(preprocess_function, batched=True)"
   ]
  },
  {
   "cell_type": "code",
   "execution_count": 78,
   "metadata": {},
   "outputs": [],
   "source": [
    "cleaned_dataset = tokenized_dataset.remove_columns([\"hum_seq\", \"mouse_seq\"])"
   ]
  },
  {
   "cell_type": "code",
   "execution_count": 79,
   "metadata": {},
   "outputs": [
    {
     "data": {
      "application/vnd.jupyter.widget-view+json": {
       "model_id": "a67cee308bb847b1898d10c61410bbf1",
       "version_major": 2,
       "version_minor": 0
      },
      "text/plain": [
       "Saving the dataset (0/2 shards):   0%|          | 0/116025 [00:00<?, ? examples/s]"
      ]
     },
     "metadata": {},
     "output_type": "display_data"
    },
    {
     "data": {
      "text/plain": [
       "Dataset({\n",
       "    features: ['input_ids', 'attention_mask', 'labels'],\n",
       "    num_rows: 116025\n",
       "})"
      ]
     },
     "execution_count": 79,
     "metadata": {},
     "output_type": "execute_result"
    }
   ],
   "source": [
    "cleaned_dataset.save_to_disk(\"../g5_prot_translation_data_v2\")\n",
    "cleaned_dataset"
   ]
  },
  {
   "cell_type": "markdown",
   "metadata": {},
   "source": [
    "## test translations"
   ]
  },
  {
   "cell_type": "code",
   "execution_count": 1,
   "metadata": {},
   "outputs": [],
   "source": [
    "import pandas as pd\n",
    "\n",
    "seq_df = pd.read_csv(\"../data/prot_sequences.csv\").dropna()"
   ]
  },
  {
   "cell_type": "code",
   "execution_count": 14,
   "metadata": {},
   "outputs": [],
   "source": [
    "from transformers import (\n",
    "    AutoModelForSeq2SeqLM,\n",
    "    AutoTokenizer,\n",
    "    T5Tokenizer,\n",
    "    DataCollatorForSeq2Seq\n",
    ")"
   ]
  },
  {
   "cell_type": "code",
   "execution_count": 57,
   "metadata": {},
   "outputs": [
    {
     "data": {
      "application/vnd.jupyter.widget-view+json": {
       "model_id": "31b98ed87e5a4646bde3633eb04f66e2",
       "version_major": 2,
       "version_minor": 0
      },
      "text/plain": [
       "Loading checkpoint shards:   0%|          | 0/3 [00:00<?, ?it/s]"
      ]
     },
     "metadata": {},
     "output_type": "display_data"
    }
   ],
   "source": [
    "tokenizer = T5Tokenizer.from_pretrained(\"Rostlab/prot_t5_xl_uniref50\")\n",
    "model = AutoModelForSeq2SeqLM.from_pretrained(\"../g5_human_mouse_finetune_prot_v1/model\")"
   ]
  },
  {
   "cell_type": "code",
   "execution_count": 67,
   "metadata": {},
   "outputs": [
    {
     "data": {
      "text/plain": [
       "''"
      ]
     },
     "execution_count": 67,
     "metadata": {},
     "output_type": "execute_result"
    }
   ],
   "source": [
    "def predict(human_seq):\n",
    "    inputs = tokenizer(human_seq, return_tensors=\"pt\").input_ids\n",
    "\n",
    "    outputs = model.generate(inputs, max_new_tokens=1000)\n",
    "\n",
    "    pred_mouse_seq = tokenizer.decode(outputs[0], skip_special_tokens=True)\n",
    "    return pred_mouse_seq\n",
    "\n",
    "human_seq = \"ATACCCATGGCCAACCTCCTACTCCTCATTGTACCCATTCTAATCGCAATGGCATTCCTAATGCTTACCGAACGAAAAATTCTAGGCTATATACAACTACGCAAAGGCCCCAACGTTGTAGGCCCCTACGGGCTACTACAACCCTTCGCTGACGCCATAAAACTCTTCACCAAAGAGCCCCTAAAACCCGCCACATCTACCATCACCCTCTACATCACCGCCCCGACCTTAGCTCTCACCATCGCTCTTCTACTATGAACCCCCCTCCCCATACCCAACCCCCTGGTCAACCTCAACCTAGGCCTCCTATTTATTCTAGCCACCTCTAGCCTAGCCGTTTACTCAATCCTCTGATCAGGGTGAGCATCAAACTCAAACTACGCCCTGATCGGCGCACTGCGAGCAGTAGCCCAAACAATCTCATATGAAGTCACCCTAGCCATCATTCTACTATCAACATTACTAATAAGTGGCTCCTTTAACCTCTCCACCCTTATCACAACACAAGAACACCTCTGATTACTCCTGCCATCATGACCCTTGGCCATAATATGATTTATCTCCACACTAGCAGAGACCAACCGAACCCCCTTCGACCTTGCCGAAGGGGAGTCCGAACTAGTCTCAGGCTTCAACATCGAATACGCCGCAGGCCCCTTCGCCCTATTCTTCATAGCCGAATACACAAACATTATTATAATAAACACCCTCACCACTACAATCTTCCTAGGAACAACATATGACGCACTCTCCCCTGAACTCTACACAACATATTTTGTCACCAAGACCCTACTTCTAACCTCCCTGTTCTTATGAATTCGAACAGCATACCCCCGATTCCGCTACGACCAACTCATACACCTCCTATGAAAAAACTTCCTACCACTCACCCTAGCATTACTTATATGATATGTCTCCATACCCATTACAATCTCCAGCATTCCCCCTCAAACCTA\"\n",
    "predict(human_seq)"
   ]
  },
  {
   "cell_type": "code",
   "execution_count": 49,
   "metadata": {},
   "outputs": [
    {
     "data": {
      "text/plain": [
       "'ATACCCATGGCCAACCTCCTACTCCTCATTGTACCCATTCTAATCGCAATGGCATTCCTAATGCTTACCGAACGAAAAATTCTAGGCTATATACAACTACGCAAAGGCCCCAACGTTGTAGGCCCCTACGGGCTACTACAACCCTTCGCTGACGCCATAAAACTCTTCACCAAAGAGCCCCTAAAACCCGCCACATCTACCATCACCCTCTACATCACCGCCCCGACCTTAGCTCTCACCATCGCTCTTCTACTATGAACCCCCCTCCCCATACCCAACCCCCTGGTCAACCTCAACCTAGGCCTCCTATTTATTCTAGCCACCTCTAGCCTAGCCGTTTACTCAATCCTCTGATCAGGGTGAGCATCAAACTCAAACTACGCCCTGATCGGCGCACTGCGAGCAGTAGCCCAAACAATCTCATATGAAGTCACCCTAGCCATCATTCTACTATCAACATTACTAATAAGTGGCTCCTTTAACCTCTCCACCCTTATCACAACACAAGAACACCTCTGATTACTCCTGCCATCATGACCCTTGGCCATAATATGATTTATCTCCACACTAGCAGAGACCAACCGAACCCCCTTCGACCTTGCCGAAGGGGAGTCCGAACTAGTCTCAGGCTTCAACATCGAATACGCCGCAGGCCCCTTCGCCCTATTCTTCATAGCCGAATACACAAACATTATTATAATAAACACCCTCACCACTACAATCTTCCTAGGAACAACATATGACGCACTCTCCCCTGAACTCTACACAACATATTTTGTCACCAAGACCCTACTTCTAACCTCCCTGTTCTTATGAATTCGAACAGCATACCCCCGATTCCGCTACGACCAACTCATACACCTCCTATGAAAAAACTTCCTACCACTCACCCTAGCATTACTTATATGATATGTCTCCATACCCATTACAATCTCCAGCATTCCCCCTCAAACCTA'"
      ]
     },
     "execution_count": 49,
     "metadata": {},
     "output_type": "execute_result"
    }
   ],
   "source": [
    "seq_df.iloc[0][\"gene_sequence\"]"
   ]
  },
  {
   "cell_type": "code",
   "execution_count": 48,
   "metadata": {},
   "outputs": [
    {
     "data": {
      "text/plain": [
       "'GTGTTCTTTATTAATATCCTAACACTCCTCGTCCCCATTCTAATCGCCATAGCCTTCCTAACATTAGTAGAACGCAAAATCTTAGGGTACATACAACTACGAAAAGGCCCTAACATTGTTGGTCCATACGGCATTTTACAACCATTTGCAGACGCCATAAAATTATTTATAAAAGAACCAATACGCCCTTTAACAACCTCTATATCCTTATTTATTATTGCACCTACCCTATCACTCACACTAGCATTAAGTCTATGAGTTCCCCTACCAATACCACACCCATTAATTAATTTAAACCTAGGGATTTTATTTATTTTAGCAACATCTAGCCTATCAGTTTACTCCATTCTATGATCAGGATGAGCCTCAAACTCCAAATACTCACTATTCGGAGCTTTACGAGCCGTAGCCCAAACAATTTCATATGAAGTAACCATAGCTATTATCCTTTTATCAGTTCTATTAATAAATGGATCCTACTCTCTACAAACACTTATTACAACCCAAGAACACATATGATTACTTCTGCCAGCCTGACCCATAGCCATAATATGATTTATCTCAACCCTAGCAGAAACAAACCGGGCCCCCTTCGACCTGACAGAAGGAGAATCAGAATTAGTATCAGGGTTTAACGTAGAATACGCAGCCGGCCCATTCGCGTTATTCTTTATAGCAGAGTACACTAACATTATTCTAATAAACGCCCTAACAACTATTATCTTCCTAGGACCCCTATACTATATCAATTTACCAGAACTCTACTCAACTAACTTCATAATAGAAGCTCTACTACTATCATCAACATTCCTATGGATCCGAGCATCTTATCCACGCTTCCGTTACGATCAACTTATACATCTTCTATGAAAAAACTTTCTACCCCTAACACTAGCATTATGTATGTGACATATTTCTTTACCAATTTTTACAGCGGGAGTACCACCATACATATAG'"
      ]
     },
     "execution_count": 48,
     "metadata": {},
     "output_type": "execute_result"
    }
   ],
   "source": [
    "seq_df.iloc[0][\"mouse_gene_sequence\"]"
   ]
  },
  {
   "cell_type": "code",
   "execution_count": 59,
   "metadata": {},
   "outputs": [
    {
     "name": "stdout",
     "output_type": "stream",
     "text": [
      "ATACCCATGGCCAACCTCCTACTCCTCATTGTACCCATTCTAATCGCAATGGCATTCCTAATGCTTACCGAACGAAAAATTCTAGGCTATATACAACTACGCAAAGGCCCCAACGTTGTAGGCCCCTACGGGCTACTACAACCCTTCGCTGACGCCATAAAACTCTTCACCAAAGAGCCCCTAAAACCCGCCACATCTACCATCACCCTCTACATCACCGCCCCGACCTTAGCTCTCACCATCGCTCTTCTACTATGAACCCCCCTCCCCATACCCAACCCCCTGGTCAACCTCAACCTAGGCCTCCTATTTATTCTAGCCACCTCTAGCCTAGCCGTTTACTCAATCCTCTGATCAGGGTGAGCATCAAACTCAAACTACGCCCTGATCGGCGCACTGCGAGCAGTAGCCCAAACAATCTCATATGAAGTCACCCTAGCCATCATTCTACTATCAACATTACTAATAAGTGGCTCCTTTAACCTCTCCACCCTTATCACAACACAAGAACACCTCTGATTACTCCTGCCATCATGACCCTTGGCCATAATATGATTTATCTCCACACTAGCAGAGACCAACCGAACCCCCTTCGACCTTGCCGAAGGGGAGTCCGAACTAGTCTCAGGCTTCAACATCGAATACGCCGCAGGCCCCTTCGCCCTATTCTTCATAGCCGAATACACAAACATTATTATAATAAACACCCTCACCACTACAATCTTCCTAGGAACAACATATGACGCACTCTCCCCTGAACTCTACACAACATATTTTGTCACCAAGACCCTACTTCTAACCTCCCTGTTCTTATGAATTCGAACAGCATACCCCCGATTCCGCTACGACCAACTCATACACCTCCTATGAAAAAACTTCCTACCACTCACCCTAGCATTACTTATATGATATGTCTCCATACCCATTACAATCTCCAGCATTCCCCCTCAAACCTA GTGTTCTTTATTAATATCCTAACACTCCTCGTCCCCATTCTAATCGCCATAGCCTTCCTAACATTAGTAGAACGCAAAATCTTAGGGTACATACAACTACGAAAAGGCCCTAACATTGTTGGTCCATACGGCATTTTACAACCATTTGCAGACGCCATAAAATTATTTATAAAAGAACCAATACGCCCTTTAACAACCTCTATATCCTTATTTATTATTGCACCTACCCTATCACTCACACTAGCATTAAGTCTATGAGTTCCCCTACCAATACCACACCCATTAATTAATTTAAACCTAGGGATTTTATTTATTTTAGCAACATCTAGCCTATCAGTTTACTCCATTCTATGATCAGGATGAGCCTCAAACTCCAAATACTCACTATTCGGAGCTTTACGAGCCGTAGCCCAAACAATTTCATATGAAGTAACCATAGCTATTATCCTTTTATCAGTTCTATTAATAAATGGATCCTACTCTCTACAAACACTTATTACAACCCAAGAACACATATGATTACTTCTGCCAGCCTGACCCATAGCCATAATATGATTTATCTCAACCCTAGCAGAAACAAACCGGGCCCCCTTCGACCTGACAGAAGGAGAATCAGAATTAGTATCAGGGTTTAACGTAGAATACGCAGCCGGCCCATTCGCGTTATTCTTTATAGCAGAGTACACTAACATTATTCTAATAAACGCCCTAACAACTATTATCTTCCTAGGACCCCTATACTATATCAATTTACCAGAACTCTACTCAACTAACTTCATAATAGAAGCTCTACTACTATCATCAACATTCCTATGGATCCGAGCATCTTATCCACGCTTCCGTTACGATCAACTTATACATCTTCTATGAAAAAACTTTCTACCCCTAACACTAGCATTATGTATGTGACATATTTCTTTACCAATTTTTACAGCGGGAGTACCACCATACATATAG\n",
      "IPMANLLLLIVPILIAMAFLMLTERKILGYIQLRKGPNVVGPYGLLQPFADAIKLFTKEPLKPATSTITLYITAPTLALTIALLL*TPLPIPNPLVNLNLGLLFILATSSLAVYSIL*SG*ASNSNYALIGALRAVAQTISYEVTLAIILLSTLLISGSFNLSTLITTQEHL*LLLPS*PLAII*FISTLAETNRTPFDLAEGESELVSGFNIEYAAGPFALFFIAEYTNIIIINTLTTTIFLGTTYDALSPELYTTYFVTKTLLLTSLFL*IRTAYPRFRYDQLIHLL*KNFLPLTLALLI*YVSIPITISSIPPQT VFFINILTLLVPILIAIAFLTLVERKILGYIQLRKGPNIVGPYGILQPFADAIKLFIKEPIRPLTTSISLFIIAPTLSLTLALSL*VPLPIPHPLINLNLGILFILATSSLSVYSIL*SG*ASNSKYSLFGALRAVAQTISYEVTIAIILLSVLLINGSYSLQTLITTQEHI*LLLPA*PIAII*FISTLAETNRAPFDLTEGESELVSGFNVEYAAGPFALFFIAEYTNIILINALTTIIFLGPLYYINLPELYSTNFIIEALLLSSTFLWIRASYPRFRYDQLIHLL*KNFLPLTLALCM*HISLPIFTAGVPPYI*\n",
      "GWRRMNTMITTRRLPGHPMPTCYMTKTEI*NTTRVSGQL*AG*KTEDRRPWFLTLALAQASCQ*WQLLQGLTSAMLSRFLSLWLRLL*RLWRGMASVIRLKSLTSTPLR*QSDQMVTCRVVLTF*SRSCLTQS*LGRERCPLMSMHTSILSRKTARQCHTGQLSMPSWWSPEGCGPGTSCFPSVSGRV*ASRSSSPPQNWRGVLVRLQSVTFS*TRCRLLTSLSSVMCCQCSAWTSASKSAARQRAIAGSLYLWRLAKHRWFCPGGTLKWTLRARSSAPWHPFGHRQIRRSFR*EAGA\n"
     ]
    }
   ],
   "source": [
    "def percent_match(a, b):\n",
    "    i = 0\n",
    "    print(a,b)\n",
    "    for x, y in zip(a, b):\n",
    "        if x == y:\n",
    "            i += 1\n",
    "    \n",
    "    return i / len(a)\n",
    "\n",
    "def translate(x):\n",
    "    return Seq(x).translate()\n",
    "\n",
    "percent_match(human_seq, seq_df.iloc[0][\"mouse_gene_sequence\"])\n",
    "percent_match(translate(human_seq), translate(seq_df.iloc[0][\"mouse_gene_sequence\"]))\n",
    "print(translate(pred_mouse_seq))"
   ]
  },
  {
   "cell_type": "code",
   "execution_count": 56,
   "metadata": {},
   "outputs": [
    {
     "data": {
      "text/plain": [
       "0.25"
      ]
     },
     "execution_count": 56,
     "metadata": {},
     "output_type": "execute_result"
    }
   ],
   "source": [
    "percent_match(pred_mouse_seq, seq_df.iloc[0][\"mouse_gene_sequence\"])"
   ]
  },
  {
   "cell_type": "code",
   "execution_count": 23,
   "metadata": {},
   "outputs": [
    {
     "data": {
      "text/plain": [
       "0.21652719665271966"
      ]
     },
     "execution_count": 23,
     "metadata": {},
     "output_type": "execute_result"
    }
   ],
   "source": [
    "percent_match(human_seq, pred_mouse_seq)"
   ]
  },
  {
   "cell_type": "code",
   "execution_count": 63,
   "metadata": {},
   "outputs": [],
   "source": [
    "human_seq = seq_df.iloc[0].hum_seq\n",
    "mouse_seq = seq_df.iloc[0].mouse_seq"
   ]
  },
  {
   "cell_type": "code",
   "execution_count": 71,
   "metadata": {},
   "outputs": [
    {
     "data": {
      "text/plain": [
       "tensor([[ 3, 11,  3, 22, 22, 22,  3, 11,  5,  5, 22, 22,  3,  3, 22, 22, 11, 22,\n",
       "         22, 11,  3, 22, 11, 22, 22, 11, 22,  3, 11, 11,  5, 11,  3, 22, 22, 22,\n",
       "          3, 11, 11, 22, 11,  3,  3, 11, 22,  5, 22,  3,  3, 11,  5,  5, 22,  3,\n",
       "         11, 11, 22, 22, 11,  3,  3, 11,  5, 22, 11, 11,  3, 22, 22,  5,  3,  3,\n",
       "         22,  5,  3,  3,  3,  3,  3, 11, 11, 22, 11,  3,  5,  5, 22, 11,  3, 11,\n",
       "          3, 11,  3, 22,  3,  3, 22, 11,  3, 22,  5, 22,  3,  3,  3,  5,  5, 22,\n",
       "         22, 22, 22,  3,  3, 22,  5, 11, 11,  5, 11,  3,  5,  5, 22, 22, 22, 22,\n",
       "         11,  3, 22,  5,  5,  5, 22, 11,  3, 22, 11,  3, 22,  3,  3, 22, 22, 22,\n",
       "         11, 11, 22,  5, 22, 11,  5,  3, 22,  5, 22, 22,  3, 11,  3,  3,  3,  3,\n",
       "         22, 11, 22, 11, 11, 22,  3, 22, 22,  3,  3,  3,  5,  3,  5, 22, 22, 22,\n",
       "         22, 11,  3,  3,  3,  3, 22, 22, 22,  5, 22, 22,  3, 22,  3, 11, 22, 11,\n",
       "          3, 22, 22,  3, 11, 22,  3, 22, 22, 22, 11, 22, 11,  3, 22,  3, 11, 22,\n",
       "          3, 22, 22,  5, 22, 22, 22, 22,  5,  3, 22, 22, 11, 11,  3,  5, 22, 11,\n",
       "         22, 11, 22,  3, 22, 22,  3, 11, 22,  5, 22, 11, 22, 11, 11, 22, 11,  3,\n",
       "         22, 11,  3, 11,  5,  3,  3, 22, 22, 22, 22, 22, 22, 11, 22, 22, 22, 22,\n",
       "          3, 11,  3, 22, 22, 22,  3,  3, 22, 22, 22, 22, 22, 11,  5,  5, 11, 22,\n",
       "          3,  3, 22, 22, 11, 22,  3,  3, 22, 22, 11,  3,  5,  5, 22, 22, 11, 22,\n",
       "         22, 11,  3, 11, 11, 11,  3, 11, 11, 22, 11,  3,  5, 22, 22,  3, 22, 22,\n",
       "         11, 22, 11,  3,  5, 22, 22, 11,  3,  5, 22, 22,  5, 11, 11, 11,  3, 22,\n",
       "         11, 22,  3,  3, 11, 22, 22, 11, 22, 11,  5,  3, 11, 22,  3,  5,  5,  5,\n",
       "         11,  5,  3,  5, 22,  3, 11, 22,  3,  3,  3, 22, 11, 22,  3,  3,  3, 22,\n",
       "         11,  3, 22,  5, 22, 22, 22, 11,  5,  3, 11, 22,  5,  5, 22,  5, 22,  3,\n",
       "         22, 11,  5, 22,  5,  3,  5, 22,  3,  5, 11,  3,  5, 22, 22, 22,  3,  3,\n",
       "          3, 22,  3,  3, 11, 22, 11, 22,  3, 11,  3, 11,  5,  3,  3,  5, 11, 22,\n",
       "          3, 22, 22, 22, 11,  3,  5, 22, 22,  3, 11, 22,  3, 11, 11, 22, 11,  3,\n",
       "         22, 11,  3, 11, 22,  3,  3, 22,  3, 11, 11,  3, 22, 11,  3,  3, 11,  3,\n",
       "          3,  5, 11,  5,  5, 22, 11, 22, 22, 11, 11, 11,  3,  3, 22, 22, 11, 22,\n",
       "         11, 22, 22,  3, 22, 22, 22, 11, 11,  3, 11, 22,  3, 22,  3,  3, 22,  3,\n",
       "         22,  3,  3,  5,  3,  3, 22,  3, 22, 22, 11, 22, 11,  5,  3, 11, 11,  3,\n",
       "         22, 11, 22, 22, 11,  5, 22, 22,  3, 11, 22,  3, 11,  5,  3, 22, 22, 22,\n",
       "         11, 11,  5,  5, 22, 22,  3, 11,  3,  3, 11,  3, 11,  5,  3, 11, 11, 11,\n",
       "          3, 11, 22, 11, 22, 22,  3, 22,  3, 22, 11,  3,  5, 22,  3,  5,  3,  5,\n",
       "          3, 22, 22,  3,  3, 22, 22,  5,  3,  3, 22, 22, 22, 22, 22, 11, 11, 22,\n",
       "          5,  3, 22, 22, 11, 11,  5, 22, 22,  5,  3,  3,  5,  5,  5,  5,  3,  5,\n",
       "         11, 22, 22,  5,  3,  3, 22, 11,  3,  5, 11, 22, 11, 22,  3,  5,  5, 22,\n",
       "         11, 11, 22,  3,  3, 22,  3, 11, 22,  5,  3,  3, 11,  3, 22,  5, 22, 22,\n",
       "          5, 22,  3,  5,  5, 22, 22, 22, 22, 11, 11, 22,  5, 22, 22, 22, 11,  3,\n",
       "         11, 11, 22, 11, 11, 22,  3, 11,  3,  5, 22, 22,  5,  3,  3, 11,  3, 22,\n",
       "          3, 22,  3,  3,  3, 22,  3, 11, 11,  3, 11, 11,  3, 11,  3,  3, 11,  3,\n",
       "          3,  3, 22,  3, 22, 22, 22, 11, 22,  3, 22, 22,  3, 22, 11,  3, 22,  3,\n",
       "          3, 11, 22, 11, 11, 22, 22, 11,  3,  5,  5,  3,  3, 22,  3,  3, 22,  3,\n",
       "         11,  3, 11,  5,  3, 22,  5, 22,  3, 22, 11, 22, 11, 22, 22, 22, 22, 11,\n",
       "          5,  3,  3, 22, 11, 22, 11,  3, 22,  3, 22,  3,  3, 22,  3, 11,  3, 11,\n",
       "         11, 11, 11,  5, 11, 22,  3, 22, 22,  3,  3,  5,  3, 22, 22, 22, 11,  3,\n",
       "         22, 11, 11, 22, 11,  3,  3, 22, 22, 11, 22, 22, 22, 11,  5, 11, 11, 22,\n",
       "         11, 11,  3, 11,  5,  3,  3, 11, 11, 22,  5,  3,  3, 22,  3,  5, 22,  3,\n",
       "         11,  3, 22, 22, 22, 22, 22,  5,  3, 11, 11, 22, 22,  5, 22, 11,  3, 22,\n",
       "          5,  3, 22, 22,  3,  3, 22, 11, 22,  3, 11,  3, 22,  3, 22, 22, 11, 22,\n",
       "         22, 11,  3, 11,  5,  3,  3,  3,  3,  3,  3, 22, 11, 11, 22, 22, 11,  3,\n",
       "         22, 22,  3, 22, 11, 22,  3, 22, 22, 22, 11,  3,  5, 22,  3, 11, 11,  3,\n",
       "         22, 11, 11,  3, 11,  3, 11,  5,  3, 11,  3, 11,  5, 11, 22, 11, 22, 22,\n",
       "          3, 11,  3, 22, 22, 22,  3, 11, 11,  3, 22,  3,  3, 11, 22, 11, 22, 22,\n",
       "          3,  5, 22,  3, 11, 11, 22, 22, 22, 22, 22, 11, 22,  3,  3,  3, 22, 22,\n",
       "         11,  3,  1]])"
      ]
     },
     "execution_count": 71,
     "metadata": {},
     "output_type": "execute_result"
    }
   ],
   "source": [
    "inputs = tokenizer(\" \".join(human_seq), return_tensors=\"pt\").input_ids\n",
    "\n",
    "inputs\n",
    "# outputs = model.generate(inputs, max_new_tokens=1000)\n",
    "\n",
    "# pred_mouse_seq = tokenizer.decode(outputs[0], skip_special_tokens=True)"
   ]
  },
  {
   "cell_type": "code",
   "execution_count": null,
   "metadata": {},
   "outputs": [],
   "source": []
  }
 ],
 "metadata": {
  "kernelspec": {
   "display_name": "Python 3 (anaconda3 2021.11)",
   "language": "python",
   "name": "anaconda3-2021.11"
  },
  "language_info": {
   "codemirror_mode": {
    "name": "ipython",
    "version": 3
   },
   "file_extension": ".py",
   "mimetype": "text/x-python",
   "name": "python",
   "nbconvert_exporter": "python",
   "pygments_lexer": "ipython3",
   "version": "3.9.7"
  }
 },
 "nbformat": 4,
 "nbformat_minor": 4
}
