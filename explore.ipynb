{
 "cells": [
  {
   "cell_type": "markdown",
   "metadata": {},
   "source": [
    "# Dataset tokenization\n",
    "\n",
    "Some code from https://github.com/huggingface/olm-training"
   ]
  },
  {
   "cell_type": "code",
   "execution_count": 3,
   "metadata": {},
   "outputs": [],
   "source": [
    "from transformers import (\n",
    "    AutoTokenizer,\n",
    ")\n",
    "from datasets import load_dataset"
   ]
  },
  {
   "cell_type": "code",
   "execution_count": null,
   "metadata": {},
   "outputs": [],
   "source": [
    "dataset = load_dataset(\"text\",\n",
    "                       data_files={\"train\": \"data/train.txt\", \n",
    "                                   \"dev\": \"data/dev.txt\"},\n",
    "                      streaming=True)"
   ]
  },
  {
   "cell_type": "code",
   "execution_count": 1,
   "metadata": {},
   "outputs": [],
   "source": [
    "tokenizer = AutoTokenizer.from_pretrained(\"g5tokenizer\")"
   ]
  },
  {
   "cell_type": "code",
   "execution_count": null,
   "metadata": {},
   "outputs": [],
   "source": [
    "def tokenize(example):\n",
    "    tokenized_example = tokenizer(\n",
    "       example[\"text\"], return_special_tokens_mask=True\n",
    "    )\n",
    "    return tokenized_example"
   ]
  },
  {
   "cell_type": "code",
   "execution_count": null,
   "metadata": {},
   "outputs": [],
   "source": [
    "tokenized_ds = dataset.map(tokenize, remove_columns=[\"text\"], num_proc=4)"
   ]
  },
  {
   "cell_type": "code",
   "execution_count": null,
   "metadata": {},
   "outputs": [],
   "source": [
    "max_len = 1110 # This number is to have an actual input size of 1000 for the model\n",
    "\n",
    "# Main data processing function that will concatenate all texts from our dataset and generate chunks of\n",
    "# max_seq_length.\n",
    "def group_texts(examples):\n",
    "    # Concatenate all texts.\n",
    "    concatenated_examples = {k: list(chain(*examples[k])) for k in examples.keys()}\n",
    "    total_length = len(concatenated_examples[list(examples.keys())[0]])\n",
    "    # We add a little padding so these tokens can be evenly split into examples with max_len # of tokens.\n",
    "    if total_length >= args.max_len:\n",
    "        remainder  = total_length - (total_length // max_len) * max_len\n",
    "        if remainder > 0:\n",
    "            concatenated_examples[\"input_ids\"] += [tokenizer.pad_token_id]*(max_len - remainder)\n",
    "            concatenated_examples[\"special_tokens_mask\"] += [1]*(max_len - remainder)\n",
    "            concatenated_examples[\"attention_mask\"] += [0]*(max_len - remainder)\n",
    "            if \"token_type_ids\" in concatenated_examples:\n",
    "                # token_type_ids is 0 - we don't support next-sentence-prediction.\n",
    "                concatenated_examples[\"token_type_ids\"] += [0]*(max_len - remainder)\n",
    "            total_length = len(concatenated_examples[list(examples.keys())[0]])\n",
    "    # Split by chunks of max_len.\n",
    "    result = {\n",
    "        k: [t[i : i + max_len] for i in range(0, total_length, max_len)]\n",
    "        for k, t in concatenated_examples.items()\n",
    "    }\n",
    "    return result"
   ]
  },
  {
   "cell_type": "code",
   "execution_count": null,
   "metadata": {},
   "outputs": [],
   "source": [
    "# Note that because the batch size is 1000, the fraction of examples with pad tokens will only be <= 1/1000.\n",
    "# The rest of the examples will have a full max_len tokens without padding.\n",
    "tokenized_ds = tokenized_ds.map(group_texts, batched=True, batch_size=1000, num_proc=4)"
   ]
  },
  {
   "cell_type": "code",
   "execution_count": null,
   "metadata": {},
   "outputs": [],
   "source": [
    "print(f\"the dataset contains in total {len(tokenized_ds)*max_len} tokens\")\n",
    "\n",
    "tokenized_ds.save_to_disk(\"g5dataset\")"
   ]
  },
  {
   "cell_type": "code",
   "execution_count": 4,
   "metadata": {},
   "outputs": [],
   "source": [
    "from datasets import load_dataset\n",
    "\n",
    "dataset = load_dataset(\"text\", \n",
    "                       data_files={\"train\": \"data/train.txt\", \n",
    "                                   \"dev\": \"data/dev.txt\"},\n",
    "                      streaming=True)"
   ]
  },
  {
   "cell_type": "code",
   "execution_count": 5,
   "metadata": {},
   "outputs": [
    {
     "ename": "AttributeError",
     "evalue": "'IterableDatasetDict' object has no attribute 'save_to_disk'",
     "output_type": "error",
     "traceback": [
      "\u001b[0;31m---------------------------------------------------------------------------\u001b[0m",
      "\u001b[0;31mAttributeError\u001b[0m                            Traceback (most recent call last)",
      "\u001b[0;32m/local_scratch/25547915/ipykernel_11490/1860407566.py\u001b[0m in \u001b[0;36m<module>\u001b[0;34m\u001b[0m\n\u001b[0;32m----> 1\u001b[0;31m \u001b[0mdataset\u001b[0m\u001b[0;34m.\u001b[0m\u001b[0msave_to_disk\u001b[0m\u001b[0;34m(\u001b[0m\u001b[0;34m\"data/g5.hf\"\u001b[0m\u001b[0;34m)\u001b[0m\u001b[0;34m\u001b[0m\u001b[0;34m\u001b[0m\u001b[0m\n\u001b[0m",
      "\u001b[0;31mAttributeError\u001b[0m: 'IterableDatasetDict' object has no attribute 'save_to_disk'"
     ]
    }
   ],
   "source": [
    "dataset.save_to_disk(\"data/g5.hf\")"
   ]
  },
  {
   "cell_type": "code",
   "execution_count": null,
   "metadata": {},
   "outputs": [],
   "source": []
  }
 ],
 "metadata": {
  "kernelspec": {
   "display_name": "Python 3 (anaconda3 2021.11)",
   "language": "python",
   "name": "anaconda3-2021.11"
  },
  "language_info": {
   "codemirror_mode": {
    "name": "ipython",
    "version": 3
   },
   "file_extension": ".py",
   "mimetype": "text/x-python",
   "name": "python",
   "nbconvert_exporter": "python",
   "pygments_lexer": "ipython3",
   "version": "3.9.7"
  }
 },
 "nbformat": 4,
 "nbformat_minor": 4
}
